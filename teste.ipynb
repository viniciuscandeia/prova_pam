{
 "cells": [
  {
   "cell_type": "code",
   "id": "initial_id",
   "metadata": {
    "collapsed": true,
    "ExecuteTime": {
     "end_time": "2025-04-24T12:19:14.504242Z",
     "start_time": "2025-04-24T12:19:09.899590Z"
    }
   },
   "source": [
    "import cudf\n",
    "from cuml.ensemble import RandomForestClassifier\n",
    "\n",
    "print( \"cuDF version:\", cudf.__version__ )\n",
    "print( \"cuML RandomForest import OK\" )\n"
   ],
   "outputs": [
    {
     "name": "stdout",
     "output_type": "stream",
     "text": [
      "cuDF version: 23.06.01\n",
      "cuML RandomForest import OK\n"
     ]
    }
   ],
   "execution_count": 1
  }
 ],
 "metadata": {
  "kernelspec": {
   "display_name": "Python 3",
   "language": "python",
   "name": "python3"
  },
  "language_info": {
   "codemirror_mode": {
    "name": "ipython",
    "version": 2
   },
   "file_extension": ".py",
   "mimetype": "text/x-python",
   "name": "python",
   "nbconvert_exporter": "python",
   "pygments_lexer": "ipython2",
   "version": "2.7.6"
  }
 },
 "nbformat": 4,
 "nbformat_minor": 5
}
